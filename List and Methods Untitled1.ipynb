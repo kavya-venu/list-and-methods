{
 "cells": [
  {
   "cell_type": "markdown",
   "id": "2b7e2029-571d-4551-bcc2-14afbbe7c8a4",
   "metadata": {},
   "source": [
    "##list\n",
    "- list is collection of different data type elements\n",
    "- list is mutable\n",
    "- list is index based and slicleable\n",
    "- list is denotes with[]\n",
    "- list constains duplicate values"
   ]
  },
  {
   "cell_type": "code",
   "execution_count": 20,
   "id": "b25d6309-f917-491f-bf04-956a9ff29719",
   "metadata": {},
   "outputs": [],
   "source": [
    "l=[1,2,3,'a','b',5.5,6,1,2,3]"
   ]
  },
  {
   "cell_type": "code",
   "execution_count": 27,
   "id": "7176a014-339f-4c7b-ad7b-f271d174bd59",
   "metadata": {},
   "outputs": [
    {
     "data": {
      "text/plain": [
       "3"
      ]
     },
     "execution_count": 27,
     "metadata": {},
     "output_type": "execute_result"
    }
   ],
   "source": [
    "#mutable\n",
    "l[2]"
   ]
  },
  {
   "cell_type": "code",
   "execution_count": 23,
   "id": "a4a68e2d-cd95-4f94-a993-eee30aba244d",
   "metadata": {},
   "outputs": [
    {
     "name": "stdout",
     "output_type": "stream",
     "text": [
      "[100, 2, 3, 'a', 'b', 5.5, 6, 1, 2, 3]\n"
     ]
    }
   ],
   "source": [
    "l[0] = 100\n",
    "print(l)"
   ]
  },
  {
   "cell_type": "code",
   "execution_count": 5,
   "id": "371d2f8f-a066-4e4c-bc3b-900e225d8e48",
   "metadata": {},
   "outputs": [
    {
     "name": "stdout",
     "output_type": "stream",
     "text": [
      "1\n",
      "3\n",
      "5.5\n",
      "1\n"
     ]
    }
   ],
   "source": [
    "#index based and sliceable\n",
    "l=[1,2,3,'a','b',5.5,6,1,2,3]\n",
    "print(l[0])\n",
    "print(l[-1])\n",
    "print(l[5])\n",
    "print(l[-3])\n"
   ]
  },
  {
   "cell_type": "code",
   "execution_count": 29,
   "id": "7dbbbe72-8bde-4060-9168-9274a525c917",
   "metadata": {},
   "outputs": [
    {
     "name": "stdout",
     "output_type": "stream",
     "text": [
      "[3, 'a']\n",
      "[3, 'a', 'b', 5.5, 6, 1, 2, 3]\n",
      "[1, 2, 3, 'a', 'b', 5.5]\n"
     ]
    }
   ],
   "source": [
    "l=[1,2,3,'a','b',5.5,6,1,2,3]\n",
    "print(l[2:4])\n",
    "print(l[2:])\n",
    "print(l[:-4])\n"
   ]
  },
  {
   "cell_type": "code",
   "execution_count": 6,
   "id": "436e8fee-8f25-4950-80c6-9980d94a576a",
   "metadata": {},
   "outputs": [
    {
     "name": "stdout",
     "output_type": "stream",
     "text": [
      "<class 'list'> <class 'list'>\n"
     ]
    }
   ],
   "source": [
    "#create empty list\n",
    "lst = []\n",
    "lst1 = list()\n",
    "print(type(lst),type(lst1))"
   ]
  },
  {
   "cell_type": "code",
   "execution_count": 7,
   "id": "6613d0ef-8014-4f2b-b552-d3c20c56a084",
   "metadata": {},
   "outputs": [
    {
     "data": {
      "text/plain": [
       "0"
      ]
     },
     "execution_count": 7,
     "metadata": {},
     "output_type": "execute_result"
    }
   ],
   "source": [
    "len(lst)"
   ]
  },
  {
   "cell_type": "code",
   "execution_count": 8,
   "id": "788f4eba-d82b-44d7-8787-2f1dd5b03b63",
   "metadata": {},
   "outputs": [
    {
     "data": {
      "text/plain": [
       "1"
      ]
     },
     "execution_count": 8,
     "metadata": {},
     "output_type": "execute_result"
    }
   ],
   "source": [
    "lst = [0]\n",
    "len(lst)"
   ]
  },
  {
   "cell_type": "code",
   "execution_count": null,
   "id": "37f2592d-85e0-4e87-824c-01a2575d2912",
   "metadata": {},
   "outputs": [],
   "source": [
    "#read list of element from user "
   ]
  },
  {
   "cell_type": "code",
   "execution_count": 10,
   "id": "b31a6710-02f5-45e2-b5c0-1057f4c23adb",
   "metadata": {},
   "outputs": [
    {
     "name": "stdin",
     "output_type": "stream",
     "text": [
      " 1 2 3 4\n"
     ]
    },
    {
     "data": {
      "text/plain": [
       "['1', '2', '3', '4']"
      ]
     },
     "execution_count": 10,
     "metadata": {},
     "output_type": "execute_result"
    }
   ],
   "source": [
    "input().split()"
   ]
  },
  {
   "cell_type": "code",
   "execution_count": 11,
   "id": "0477e074-0252-4709-85f6-829bf25f9f32",
   "metadata": {},
   "outputs": [
    {
     "name": "stdin",
     "output_type": "stream",
     "text": [
      " 1 2 3 4\n"
     ]
    },
    {
     "data": {
      "text/plain": [
       "<map at 0x21f44f82020>"
      ]
     },
     "execution_count": 11,
     "metadata": {},
     "output_type": "execute_result"
    }
   ],
   "source": [
    "map(int, input().split())"
   ]
  },
  {
   "cell_type": "code",
   "execution_count": 14,
   "id": "c71781d9-ea3e-4135-a11a-45b54b192e0b",
   "metadata": {},
   "outputs": [
    {
     "name": "stdin",
     "output_type": "stream",
     "text": [
      " 1 2 3 4\n"
     ]
    },
    {
     "name": "stdout",
     "output_type": "stream",
     "text": [
      "[1, 2, 3, 4]\n"
     ]
    }
   ],
   "source": [
    "lst = list(map(int, input().split()))\n",
    "print(lst)"
   ]
  },
  {
   "cell_type": "code",
   "execution_count": 18,
   "id": "4c3a3b32-c95e-4d79-849d-33eb41d137f8",
   "metadata": {},
   "outputs": [
    {
     "name": "stdin",
     "output_type": "stream",
     "text": [
      " 1 2 3 a\n"
     ]
    },
    {
     "ename": "ValueError",
     "evalue": "invalid literal for int() with base 10: 'a'",
     "output_type": "error",
     "traceback": [
      "\u001b[1;31m---------------------------------------------------------------------------\u001b[0m",
      "\u001b[1;31mValueError\u001b[0m                                Traceback (most recent call last)",
      "Cell \u001b[1;32mIn[18], line 1\u001b[0m\n\u001b[1;32m----> 1\u001b[0m lst \u001b[38;5;241m=\u001b[39m \u001b[38;5;28;43mlist\u001b[39;49m\u001b[43m(\u001b[49m\u001b[38;5;28;43mmap\u001b[39;49m\u001b[43m(\u001b[49m\u001b[38;5;28;43mint\u001b[39;49m\u001b[43m,\u001b[49m\u001b[43m \u001b[49m\u001b[38;5;28;43minput\u001b[39;49m\u001b[43m(\u001b[49m\u001b[43m)\u001b[49m\u001b[38;5;241;43m.\u001b[39;49m\u001b[43msplit\u001b[49m\u001b[43m(\u001b[49m\u001b[43m)\u001b[49m\u001b[43m)\u001b[49m\u001b[43m)\u001b[49m\n\u001b[0;32m      2\u001b[0m \u001b[38;5;28mprint\u001b[39m(lst)\n",
      "\u001b[1;31mValueError\u001b[0m: invalid literal for int() with base 10: 'a'"
     ]
    }
   ],
   "source": [
    "# we cant not covert charater into integer\n",
    "lst = list(map(int, input().split()))\n",
    "print(lst)"
   ]
  },
  {
   "cell_type": "code",
   "execution_count": 15,
   "id": "6ccb0845-ef40-40c0-a014-6c14cbf61330",
   "metadata": {},
   "outputs": [
    {
     "name": "stdin",
     "output_type": "stream",
     "text": [
      " 1 2 3 4\n"
     ]
    },
    {
     "name": "stdout",
     "output_type": "stream",
     "text": [
      "[1.0, 2.0, 3.0, 4.0]\n"
     ]
    }
   ],
   "source": [
    "lst = list(map(float, input().split()))\n",
    "print(lst)"
   ]
  },
  {
   "cell_type": "code",
   "execution_count": 16,
   "id": "477c6acc-c30a-41c0-8bd1-6b12bc5ad92b",
   "metadata": {},
   "outputs": [
    {
     "name": "stdin",
     "output_type": "stream",
     "text": [
      " 1 2 3 4\n"
     ]
    },
    {
     "name": "stdout",
     "output_type": "stream",
     "text": [
      "['1', '2', '3', '4']\n"
     ]
    }
   ],
   "source": [
    "lst = list(map(str, input().split()))\n",
    "print(lst)"
   ]
  },
  {
   "cell_type": "code",
   "execution_count": 17,
   "id": "ab6a779e-bc08-499e-8174-afb44aa2ab21",
   "metadata": {},
   "outputs": [
    {
     "name": "stdin",
     "output_type": "stream",
     "text": [
      " 1 2 3 a\n"
     ]
    },
    {
     "name": "stdout",
     "output_type": "stream",
     "text": [
      "['1', '2', '3', 'a']\n"
     ]
    }
   ],
   "source": [
    "lst = list(map(str, input().split()))\n",
    "print(lst)"
   ]
  },
  {
   "cell_type": "code",
   "execution_count": 30,
   "id": "e09c967e-a918-4f53-aa09-c9df4c3352cb",
   "metadata": {},
   "outputs": [
    {
     "name": "stdout",
     "output_type": "stream",
     "text": [
      "[1, 2, 3, 4, 5]\n"
     ]
    }
   ],
   "source": [
    "#list concatination using '+'\n",
    "l1 = [1,2,3]\n",
    "l2 = [4,5]\n",
    "print(l1+l2)"
   ]
  },
  {
   "cell_type": "code",
   "execution_count": 31,
   "id": "a10fbde7-3dba-49ec-9dd8-a5da6e23c7a7",
   "metadata": {},
   "outputs": [
    {
     "name": "stdout",
     "output_type": "stream",
     "text": [
      "[1, 2, 3, 4, 5, 1, 2, 3, 4, 5, 1, 2, 3, 4, 5]\n"
     ]
    }
   ],
   "source": [
    "#list repetation using '*'\n",
    "l1 = [1,2,3,4,5]\n",
    "print(l1*3)"
   ]
  },
  {
   "cell_type": "markdown",
   "id": "a7b4ba62-db56-4514-98bd-e8f44101d44e",
   "metadata": {},
   "source": [
    "List Methods"
   ]
  },
  {
   "cell_type": "markdown",
   "id": "381dc77c-0c9c-472e-b59a-070e4aa62512",
   "metadata": {},
   "source": [
    "- append(value) - itadd the single value at emnd of list\n",
    "- extend(iterable) - it add the iterable values at end of list\n",
    "- insert(position,value) - add the value at specified position and followed values are right shifted\n",
    "- index(value) - returns the first position of value, otherwise valueError\n",
    "- remove(value) - it removes the value at first occurance position\n",
    "- pop() - returns and removes the pop value as per specified position otherwise pops the last value\n",
    "- clear() - removes the all elements from list\n",
    "- del - removes the list\n",
    "- count(value) -returns the total occurance of a value in the list\n",
    "- len(list_name) - total elements in the list or length of list\n",
    "- min(list_name) - returns the min value from the list\n",
    "- max(list_name) - returns the max value from the list\n",
    "- sum(list_name) - sums the all elements in the list"
   ]
  },
  {
   "cell_type": "code",
   "execution_count": 36,
   "id": "ccf943a8-c948-4c46-9de9-781682a17a48",
   "metadata": {},
   "outputs": [
    {
     "name": "stdout",
     "output_type": "stream",
     "text": [
      "original list: [1, 2, 3, '3a', 'b', 5.5, 6, 1, 2, 3]\n",
      "After Append operation: [1, 2, 3, '3a', 'b', 5.5, 6, 1, 2, 3, 100]\n",
      "After Extend operation: [1, 2, 3, '3a', 'b', 5.5, 6, 1, 2, 3, 100, [200, 300, 400]]\n",
      "After insert operation: [1, 2, 3, '3a', 'codegnan', 'b', 5.5, 6, 1, 2, 3, 100, [200, 300, 400]]\n"
     ]
    }
   ],
   "source": [
    "l =[1,2,3,'3a','b',5.5,6,1,2,3]\n",
    "#append(),extend(),insert()\n",
    "print(\"original list:\",l)\n",
    "l.append(100)\n",
    "print(\"After Append operation:\",l)\n",
    "l.append([200,300,400])\n",
    "print(\"After Extend operation:\",l)\n",
    "l.insert(4,'codegnan')\n",
    "print(\"After insert operation:\",l)"
   ]
  },
  {
   "cell_type": "code",
   "execution_count": 38,
   "id": "9714bc4b-8743-4dba-9766-3b1fe400a0b5",
   "metadata": {},
   "outputs": [
    {
     "name": "stdout",
     "output_type": "stream",
     "text": [
      "original list: [1, 2, 3, '3a', 'b', 5.5, 6, 1, 2, 3]\n",
      "after remove operation: [1, 3, '3a', 'b', 5.5, 6, 1, 2, 3]\n",
      "after pop operation: [1, 3, '3a', 'b', 5.5, 6, 1, 2]\n",
      "after pop the 3rd position: [1, 3, '3a', 5.5, 6, 1, 2]\n",
      "after del of 0th position ele: [3, '3a', 5.5, 6, 1, 2]\n",
      "after del using sliceing: [3, '3a', 1, 2]\n",
      "after clear operation: []\n"
     ]
    }
   ],
   "source": [
    "#remove(),pop(),clear(),del()\n",
    "l =[1,2,3,'3a','b',5.5,6,1,2,3]\n",
    "print(\"original list:\",l)\n",
    "l.remove(2)\n",
    "print(\"after remove operation:\",l)\n",
    "l.pop()\n",
    "print(\"after pop operation:\",l)\n",
    "l.pop(3)\n",
    "print(\"after pop the 3rd position:\",l)\n",
    "del l[0]\n",
    "print(\"after del of 0th position ele:\", l)\n",
    "del l[2:4]\n",
    "print(\"after del using sliceing:\",l)\n",
    "l.clear()\n",
    "print(\"after clear operation:\",l)\n"
   ]
  },
  {
   "cell_type": "code",
   "execution_count": 32,
   "id": "943b2234-0ce0-4f87-82ba-ae3ccf02181e",
   "metadata": {},
   "outputs": [
    {
     "name": "stdout",
     "output_type": "stream",
     "text": [
      "1\n",
      "34\n",
      "2\n",
      "72\n"
     ]
    }
   ],
   "source": [
    "#min(),max(),len(),count(),sum(),sort(),reverse()\n",
    "l = [1,2,5,10,11,34,2,3,4]\n",
    "min_val = min(l)\n",
    "max_val = max(l)\n",
    "count_2 = l.count(2)\n",
    "sum_list = sum(l)\n",
    "print(min_val)\n",
    "print(max_val)\n",
    "print(count_2)\n",
    "print(sum_list)"
   ]
  },
  {
   "cell_type": "code",
   "execution_count": 33,
   "id": "26aa1757-065f-452b-8104-4269aafdd714",
   "metadata": {},
   "outputs": [
    {
     "name": "stdout",
     "output_type": "stream",
     "text": [
      "[1, 2, 2, 3, 4, 5, 10, 11, 34]\n"
     ]
    }
   ],
   "source": [
    "# sort()\n",
    "l = [1,2,5,10,11,34,2,3,4]\n",
    "l.sort()\n",
    "print(l)"
   ]
  },
  {
   "cell_type": "code",
   "execution_count": 39,
   "id": "3d256169-c91c-43ee-8a51-978b889bb42f",
   "metadata": {},
   "outputs": [
    {
     "name": "stdout",
     "output_type": "stream",
     "text": [
      "[1, 2, 2, 3, 4, 5, 10, 11, 34]\n"
     ]
    }
   ],
   "source": [
    "# sort()\n",
    "l = [1,2,5,10,11,34,2,3,4]\n",
    "l.sort()\n",
    "print(l)"
   ]
  },
  {
   "cell_type": "code",
   "execution_count": 40,
   "id": "4e3dcc2d-a29a-404d-9704-e6d7010014c6",
   "metadata": {},
   "outputs": [
    {
     "name": "stdout",
     "output_type": "stream",
     "text": [
      "[34, 11, 10, 5, 4, 3, 2, 2, 1]\n"
     ]
    }
   ],
   "source": [
    "l = [1,2,5,10,11,34,2,3,4]\n",
    "l.sort(reverse=True)\n",
    "print(l)"
   ]
  },
  {
   "cell_type": "code",
   "execution_count": null,
   "id": "e3d5fab0-bf59-419c-9341-b352ff2d985e",
   "metadata": {},
   "outputs": [],
   "source": []
  }
 ],
 "metadata": {
  "kernelspec": {
   "display_name": "Python 3 (ipykernel)",
   "language": "python",
   "name": "python3"
  },
  "language_info": {
   "codemirror_mode": {
    "name": "ipython",
    "version": 3
   },
   "file_extension": ".py",
   "mimetype": "text/x-python",
   "name": "python",
   "nbconvert_exporter": "python",
   "pygments_lexer": "ipython3",
   "version": "3.13.5"
  }
 },
 "nbformat": 4,
 "nbformat_minor": 5
}
